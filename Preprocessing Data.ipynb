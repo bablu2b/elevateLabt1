{
  "metadata": {
    "kernelspec": {
      "name": "python",
      "display_name": "Python (Pyodide)",
      "language": "python"
    },
    "language_info": {
      "codemirror_mode": {
        "name": "python",
        "version": 3
      },
      "file_extension": ".py",
      "mimetype": "text/x-python",
      "name": "python",
      "nbconvert_exporter": "python",
      "pygments_lexer": "ipython3",
      "version": "3.8"
    }
  },
  "nbformat_minor": 5,
  "nbformat": 4,
  "cells": [
    {
      "id": "065bf8d9-8386-40f9-be4a-d7b001e2a727",
      "cell_type": "code",
      "source": "import pandas as pd\nimport numpy as np",
      "metadata": {
        "trusted": true
      },
      "outputs": [],
      "execution_count": 11
    },
    {
      "id": "56f09343-5520-457c-9667-150921a52dbb",
      "cell_type": "code",
      "source": "%pip install openpyxl\n",
      "metadata": {
        "trusted": true
      },
      "outputs": [],
      "execution_count": 13
    },
    {
      "id": "f691df3e-373d-4715-a0c7-9e69cbc542b8",
      "cell_type": "code",
      "source": "df = pd.read_excel('data/mc.xlsx')\ndf.head()",
      "metadata": {
        "trusted": true
      },
      "outputs": [
        {
          "execution_count": 14,
          "output_type": "execute_result",
          "data": {
            "text/plain": "     ID  Year_Birth   Education Marital_Status   Income  Kidhome  Teenhome  \\\n0  5524        1957  Graduation         Single  58138.0        0         0   \n1  2174        1954  Graduation         Single  46344.0        1         1   \n2  4141        1965  Graduation       Together  71613.0        0         0   \n3  6182        1984  Graduation       Together  26646.0        1         0   \n4  5324        1981         PhD        Married  58293.0        1         0   \n\n  Dt_Customer  Recency  MntWines  ...  NumWebVisitsMonth  AcceptedCmp3  \\\n0  2012-09-04       58       635  ...                  7             0   \n1  2014-03-08       38        11  ...                  5             0   \n2  2013-08-21       26       426  ...                  4             0   \n3  2014-02-10       26        11  ...                  6             0   \n4  2014-01-19       94       173  ...                  5             0   \n\n   AcceptedCmp4  AcceptedCmp5  AcceptedCmp1  AcceptedCmp2  Complain  \\\n0             0             0             0             0         0   \n1             0             0             0             0         0   \n2             0             0             0             0         0   \n3             0             0             0             0         0   \n4             0             0             0             0         0   \n\n   Z_CostContact  Z_Revenue  Response  \n0              3         11         1  \n1              3         11         0  \n2              3         11         0  \n3              3         11         0  \n4              3         11         0  \n\n[5 rows x 29 columns]",
            "text/html": "<div>\n<style scoped>\n    .dataframe tbody tr th:only-of-type {\n        vertical-align: middle;\n    }\n\n    .dataframe tbody tr th {\n        vertical-align: top;\n    }\n\n    .dataframe thead th {\n        text-align: right;\n    }\n</style>\n<table border=\"1\" class=\"dataframe\">\n  <thead>\n    <tr style=\"text-align: right;\">\n      <th></th>\n      <th>ID</th>\n      <th>Year_Birth</th>\n      <th>Education</th>\n      <th>Marital_Status</th>\n      <th>Income</th>\n      <th>Kidhome</th>\n      <th>Teenhome</th>\n      <th>Dt_Customer</th>\n      <th>Recency</th>\n      <th>MntWines</th>\n      <th>...</th>\n      <th>NumWebVisitsMonth</th>\n      <th>AcceptedCmp3</th>\n      <th>AcceptedCmp4</th>\n      <th>AcceptedCmp5</th>\n      <th>AcceptedCmp1</th>\n      <th>AcceptedCmp2</th>\n      <th>Complain</th>\n      <th>Z_CostContact</th>\n      <th>Z_Revenue</th>\n      <th>Response</th>\n    </tr>\n  </thead>\n  <tbody>\n    <tr>\n      <th>0</th>\n      <td>5524</td>\n      <td>1957</td>\n      <td>Graduation</td>\n      <td>Single</td>\n      <td>58138.0</td>\n      <td>0</td>\n      <td>0</td>\n      <td>2012-09-04</td>\n      <td>58</td>\n      <td>635</td>\n      <td>...</td>\n      <td>7</td>\n      <td>0</td>\n      <td>0</td>\n      <td>0</td>\n      <td>0</td>\n      <td>0</td>\n      <td>0</td>\n      <td>3</td>\n      <td>11</td>\n      <td>1</td>\n    </tr>\n    <tr>\n      <th>1</th>\n      <td>2174</td>\n      <td>1954</td>\n      <td>Graduation</td>\n      <td>Single</td>\n      <td>46344.0</td>\n      <td>1</td>\n      <td>1</td>\n      <td>2014-03-08</td>\n      <td>38</td>\n      <td>11</td>\n      <td>...</td>\n      <td>5</td>\n      <td>0</td>\n      <td>0</td>\n      <td>0</td>\n      <td>0</td>\n      <td>0</td>\n      <td>0</td>\n      <td>3</td>\n      <td>11</td>\n      <td>0</td>\n    </tr>\n    <tr>\n      <th>2</th>\n      <td>4141</td>\n      <td>1965</td>\n      <td>Graduation</td>\n      <td>Together</td>\n      <td>71613.0</td>\n      <td>0</td>\n      <td>0</td>\n      <td>2013-08-21</td>\n      <td>26</td>\n      <td>426</td>\n      <td>...</td>\n      <td>4</td>\n      <td>0</td>\n      <td>0</td>\n      <td>0</td>\n      <td>0</td>\n      <td>0</td>\n      <td>0</td>\n      <td>3</td>\n      <td>11</td>\n      <td>0</td>\n    </tr>\n    <tr>\n      <th>3</th>\n      <td>6182</td>\n      <td>1984</td>\n      <td>Graduation</td>\n      <td>Together</td>\n      <td>26646.0</td>\n      <td>1</td>\n      <td>0</td>\n      <td>2014-02-10</td>\n      <td>26</td>\n      <td>11</td>\n      <td>...</td>\n      <td>6</td>\n      <td>0</td>\n      <td>0</td>\n      <td>0</td>\n      <td>0</td>\n      <td>0</td>\n      <td>0</td>\n      <td>3</td>\n      <td>11</td>\n      <td>0</td>\n    </tr>\n    <tr>\n      <th>4</th>\n      <td>5324</td>\n      <td>1981</td>\n      <td>PhD</td>\n      <td>Married</td>\n      <td>58293.0</td>\n      <td>1</td>\n      <td>0</td>\n      <td>2014-01-19</td>\n      <td>94</td>\n      <td>173</td>\n      <td>...</td>\n      <td>5</td>\n      <td>0</td>\n      <td>0</td>\n      <td>0</td>\n      <td>0</td>\n      <td>0</td>\n      <td>0</td>\n      <td>3</td>\n      <td>11</td>\n      <td>0</td>\n    </tr>\n  </tbody>\n</table>\n<p>5 rows × 29 columns</p>\n</div>"
          },
          "metadata": {}
        }
      ],
      "execution_count": 14
    },
    {
      "id": "2e3e91d2-97ce-49af-a91c-5ec73fb1dfd7",
      "cell_type": "code",
      "source": "df.isnull().sum()\n",
      "metadata": {
        "trusted": true
      },
      "outputs": [
        {
          "execution_count": 15,
          "output_type": "execute_result",
          "data": {
            "text/plain": "ID                      0\nYear_Birth              0\nEducation               0\nMarital_Status          0\nIncome                 24\nKidhome                 0\nTeenhome                0\nDt_Customer             0\nRecency                 0\nMntWines                0\nMntFruits               0\nMntMeatProducts         0\nMntFishProducts         0\nMntSweetProducts        0\nMntGoldProds            0\nNumDealsPurchases       0\nNumWebPurchases         0\nNumCatalogPurchases     0\nNumStorePurchases       0\nNumWebVisitsMonth       0\nAcceptedCmp3            0\nAcceptedCmp4            0\nAcceptedCmp5            0\nAcceptedCmp1            0\nAcceptedCmp2            0\nComplain                0\nZ_CostContact           0\nZ_Revenue               0\nResponse                0\ndtype: int64"
          },
          "metadata": {}
        }
      ],
      "execution_count": 15
    },
    {
      "id": "4af94272-c1d5-443e-ad2d-864427d39aa5",
      "cell_type": "code",
      "source": "df.count()",
      "metadata": {
        "trusted": true
      },
      "outputs": [
        {
          "execution_count": 16,
          "output_type": "execute_result",
          "data": {
            "text/plain": "ID                     2240\nYear_Birth             2240\nEducation              2240\nMarital_Status         2240\nIncome                 2216\nKidhome                2240\nTeenhome               2240\nDt_Customer            2240\nRecency                2240\nMntWines               2240\nMntFruits              2240\nMntMeatProducts        2240\nMntFishProducts        2240\nMntSweetProducts       2240\nMntGoldProds           2240\nNumDealsPurchases      2240\nNumWebPurchases        2240\nNumCatalogPurchases    2240\nNumStorePurchases      2240\nNumWebVisitsMonth      2240\nAcceptedCmp3           2240\nAcceptedCmp4           2240\nAcceptedCmp5           2240\nAcceptedCmp1           2240\nAcceptedCmp2           2240\nComplain               2240\nZ_CostContact          2240\nZ_Revenue              2240\nResponse               2240\ndtype: int64"
          },
          "metadata": {}
        }
      ],
      "execution_count": 16
    },
    {
      "id": "d5a61d4e-e89f-49a0-a4ca-d1c82942fee4",
      "cell_type": "code",
      "source": "df.dropna(inplace=True)",
      "metadata": {
        "trusted": true
      },
      "outputs": [],
      "execution_count": 17
    },
    {
      "id": "934c2a6b-c7e5-4a43-a4b6-c529739f5bff",
      "cell_type": "code",
      "source": "df.count()",
      "metadata": {
        "trusted": true
      },
      "outputs": [
        {
          "execution_count": 19,
          "output_type": "execute_result",
          "data": {
            "text/plain": "ID                     2216\nYear_Birth             2216\nEducation              2216\nMarital_Status         2216\nIncome                 2216\nKidhome                2216\nTeenhome               2216\nDt_Customer            2216\nRecency                2216\nMntWines               2216\nMntFruits              2216\nMntMeatProducts        2216\nMntFishProducts        2216\nMntSweetProducts       2216\nMntGoldProds           2216\nNumDealsPurchases      2216\nNumWebPurchases        2216\nNumCatalogPurchases    2216\nNumStorePurchases      2216\nNumWebVisitsMonth      2216\nAcceptedCmp3           2216\nAcceptedCmp4           2216\nAcceptedCmp5           2216\nAcceptedCmp1           2216\nAcceptedCmp2           2216\nComplain               2216\nZ_CostContact          2216\nZ_Revenue              2216\nResponse               2216\ndtype: int64"
          },
          "metadata": {}
        }
      ],
      "execution_count": 19
    },
    {
      "id": "e860f41e-7dce-42b0-910d-800320fe4a91",
      "cell_type": "code",
      "source": "df.drop_duplicates(inplace=True)",
      "metadata": {
        "trusted": true
      },
      "outputs": [],
      "execution_count": 21
    },
    {
      "id": "1e31fd99-a383-4cf2-81b7-2872fd1bafa0",
      "cell_type": "code",
      "source": "df.count()",
      "metadata": {
        "trusted": true
      },
      "outputs": [
        {
          "execution_count": 22,
          "output_type": "execute_result",
          "data": {
            "text/plain": "ID                     2216\nYear_Birth             2216\nEducation              2216\nMarital_Status         2216\nIncome                 2216\nKidhome                2216\nTeenhome               2216\nDt_Customer            2216\nRecency                2216\nMntWines               2216\nMntFruits              2216\nMntMeatProducts        2216\nMntFishProducts        2216\nMntSweetProducts       2216\nMntGoldProds           2216\nNumDealsPurchases      2216\nNumWebPurchases        2216\nNumCatalogPurchases    2216\nNumStorePurchases      2216\nNumWebVisitsMonth      2216\nAcceptedCmp3           2216\nAcceptedCmp4           2216\nAcceptedCmp5           2216\nAcceptedCmp1           2216\nAcceptedCmp2           2216\nComplain               2216\nZ_CostContact          2216\nZ_Revenue              2216\nResponse               2216\ndtype: int64"
          },
          "metadata": {}
        }
      ],
      "execution_count": 22
    },
    {
      "id": "98043065-ff8d-4782-b50f-3d49b82b80ca",
      "cell_type": "code",
      "source": "df.to_csv('cleaned_file.csv', index=False)\n",
      "metadata": {
        "trusted": true
      },
      "outputs": [],
      "execution_count": 23
    },
    {
      "id": "74e7c3af-ae96-459d-b197-6d05377efbae",
      "cell_type": "code",
      "source": "df.tail()",
      "metadata": {
        "trusted": true
      },
      "outputs": [
        {
          "execution_count": 24,
          "output_type": "execute_result",
          "data": {
            "text/plain": "         ID  Year_Birth   Education Marital_Status   Income  Kidhome  \\\n2235  10870        1967  Graduation        Married  61223.0        0   \n2236   4001        1946         PhD       Together  64014.0        2   \n2237   7270        1981  Graduation       Divorced  56981.0        0   \n2238   8235        1956      Master       Together  69245.0        0   \n2239   9405        1954         PhD        Married  52869.0        1   \n\n      Teenhome Dt_Customer  Recency  MntWines  ...  NumWebVisitsMonth  \\\n2235         1  2013-06-13       46       709  ...                  5   \n2236         1  2014-06-10       56       406  ...                  7   \n2237         0  2014-01-25       91       908  ...                  6   \n2238         1  2014-01-24        8       428  ...                  3   \n2239         1  2012-10-15       40        84  ...                  7   \n\n      AcceptedCmp3  AcceptedCmp4  AcceptedCmp5  AcceptedCmp1  AcceptedCmp2  \\\n2235             0             0             0             0             0   \n2236             0             0             0             1             0   \n2237             0             1             0             0             0   \n2238             0             0             0             0             0   \n2239             0             0             0             0             0   \n\n      Complain  Z_CostContact  Z_Revenue  Response  \n2235         0              3         11         0  \n2236         0              3         11         0  \n2237         0              3         11         0  \n2238         0              3         11         0  \n2239         0              3         11         1  \n\n[5 rows x 29 columns]",
            "text/html": "<div>\n<style scoped>\n    .dataframe tbody tr th:only-of-type {\n        vertical-align: middle;\n    }\n\n    .dataframe tbody tr th {\n        vertical-align: top;\n    }\n\n    .dataframe thead th {\n        text-align: right;\n    }\n</style>\n<table border=\"1\" class=\"dataframe\">\n  <thead>\n    <tr style=\"text-align: right;\">\n      <th></th>\n      <th>ID</th>\n      <th>Year_Birth</th>\n      <th>Education</th>\n      <th>Marital_Status</th>\n      <th>Income</th>\n      <th>Kidhome</th>\n      <th>Teenhome</th>\n      <th>Dt_Customer</th>\n      <th>Recency</th>\n      <th>MntWines</th>\n      <th>...</th>\n      <th>NumWebVisitsMonth</th>\n      <th>AcceptedCmp3</th>\n      <th>AcceptedCmp4</th>\n      <th>AcceptedCmp5</th>\n      <th>AcceptedCmp1</th>\n      <th>AcceptedCmp2</th>\n      <th>Complain</th>\n      <th>Z_CostContact</th>\n      <th>Z_Revenue</th>\n      <th>Response</th>\n    </tr>\n  </thead>\n  <tbody>\n    <tr>\n      <th>2235</th>\n      <td>10870</td>\n      <td>1967</td>\n      <td>Graduation</td>\n      <td>Married</td>\n      <td>61223.0</td>\n      <td>0</td>\n      <td>1</td>\n      <td>2013-06-13</td>\n      <td>46</td>\n      <td>709</td>\n      <td>...</td>\n      <td>5</td>\n      <td>0</td>\n      <td>0</td>\n      <td>0</td>\n      <td>0</td>\n      <td>0</td>\n      <td>0</td>\n      <td>3</td>\n      <td>11</td>\n      <td>0</td>\n    </tr>\n    <tr>\n      <th>2236</th>\n      <td>4001</td>\n      <td>1946</td>\n      <td>PhD</td>\n      <td>Together</td>\n      <td>64014.0</td>\n      <td>2</td>\n      <td>1</td>\n      <td>2014-06-10</td>\n      <td>56</td>\n      <td>406</td>\n      <td>...</td>\n      <td>7</td>\n      <td>0</td>\n      <td>0</td>\n      <td>0</td>\n      <td>1</td>\n      <td>0</td>\n      <td>0</td>\n      <td>3</td>\n      <td>11</td>\n      <td>0</td>\n    </tr>\n    <tr>\n      <th>2237</th>\n      <td>7270</td>\n      <td>1981</td>\n      <td>Graduation</td>\n      <td>Divorced</td>\n      <td>56981.0</td>\n      <td>0</td>\n      <td>0</td>\n      <td>2014-01-25</td>\n      <td>91</td>\n      <td>908</td>\n      <td>...</td>\n      <td>6</td>\n      <td>0</td>\n      <td>1</td>\n      <td>0</td>\n      <td>0</td>\n      <td>0</td>\n      <td>0</td>\n      <td>3</td>\n      <td>11</td>\n      <td>0</td>\n    </tr>\n    <tr>\n      <th>2238</th>\n      <td>8235</td>\n      <td>1956</td>\n      <td>Master</td>\n      <td>Together</td>\n      <td>69245.0</td>\n      <td>0</td>\n      <td>1</td>\n      <td>2014-01-24</td>\n      <td>8</td>\n      <td>428</td>\n      <td>...</td>\n      <td>3</td>\n      <td>0</td>\n      <td>0</td>\n      <td>0</td>\n      <td>0</td>\n      <td>0</td>\n      <td>0</td>\n      <td>3</td>\n      <td>11</td>\n      <td>0</td>\n    </tr>\n    <tr>\n      <th>2239</th>\n      <td>9405</td>\n      <td>1954</td>\n      <td>PhD</td>\n      <td>Married</td>\n      <td>52869.0</td>\n      <td>1</td>\n      <td>1</td>\n      <td>2012-10-15</td>\n      <td>40</td>\n      <td>84</td>\n      <td>...</td>\n      <td>7</td>\n      <td>0</td>\n      <td>0</td>\n      <td>0</td>\n      <td>0</td>\n      <td>0</td>\n      <td>0</td>\n      <td>3</td>\n      <td>11</td>\n      <td>1</td>\n    </tr>\n  </tbody>\n</table>\n<p>5 rows × 29 columns</p>\n</div>"
          },
          "metadata": {}
        }
      ],
      "execution_count": 24
    },
    {
      "id": "467145dc-71b1-44c1-8b96-21db6ccd5f41",
      "cell_type": "code",
      "source": "",
      "metadata": {
        "trusted": true
      },
      "outputs": [],
      "execution_count": null
    }
  ]
}